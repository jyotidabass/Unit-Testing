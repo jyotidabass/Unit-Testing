{
  "nbformat": 4,
  "nbformat_minor": 0,
  "metadata": {
    "colab": {
      "provenance": [],
      "authorship_tag": "ABX9TyMCPOlux8IIokk3X+xIfvi9",
      "include_colab_link": true
    },
    "kernelspec": {
      "name": "python3",
      "display_name": "Python 3"
    },
    "language_info": {
      "name": "python"
    }
  },
  "cells": [
    {
      "cell_type": "markdown",
      "metadata": {
        "id": "view-in-github",
        "colab_type": "text"
      },
      "source": [
        "<a href=\"https://colab.research.google.com/github/jyotidabass/Unit-Testing/blob/main/Unit_Testing.ipynb\" target=\"_parent\"><img src=\"https://colab.research.google.com/assets/colab-badge.svg\" alt=\"Open In Colab\"/></a>"
      ]
    },
    {
      "cell_type": "markdown",
      "source": [
        "Google Colab provides a pre-installed unittest library, which you can use for unit testing. Here's a simple example of testing a function that calculates the factorial of a given number, using the unittest library.\n",
        "\n",
        "# First, let's create a simple function factorial in a Python cell:"
      ],
      "metadata": {
        "id": "PdIaUYI330Jt"
      }
    },
    {
      "cell_type": "code",
      "execution_count": 1,
      "metadata": {
        "id": "RqAH-z__3D66"
      },
      "outputs": [],
      "source": [
        "def factorial(n):\n",
        "    result = 1\n",
        "    for i in range(1, n + 1):\n",
        "        result *= i\n",
        "    return result"
      ]
    },
    {
      "cell_type": "markdown",
      "source": [
        "**Next, create a test class using the unittest.TestCase class. This class will contain the test cases for the factorial function:**"
      ],
      "metadata": {
        "id": "SjAGhWT839yP"
      }
    },
    {
      "cell_type": "code",
      "source": [
        "import unittest\n",
        "\n",
        "class TestFactorial(unittest.TestCase):\n",
        "    def test_factorial_basic(self):\n",
        "        self.assertEqual(factorial(0), 1)\n",
        "        self.assertEqual(factorial(1), 1)\n",
        "        self.assertEqual(factorial(2), 2)\n",
        "        self.assertEqual(factorial(5), 120)\n",
        "\n",
        "    def test_factorial_large_numbers(self):\n",
        "        self.assertEqual(factorial(20), 2432902008176640000)"
      ],
      "metadata": {
        "id": "WMFeBTlI3HDe"
      },
      "execution_count": 2,
      "outputs": []
    },
    {
      "cell_type": "code",
      "source": [
        "if __name__ == '__main__':\n",
        "    unittest.main(argv=['first-arg-is-ignored'], exit=False)  # Prevent immediate exit\n",
        "    print(\"All tests completed.\")  # Indicate completion"
      ],
      "metadata": {
        "colab": {
          "base_uri": "https://localhost:8080/"
        },
        "id": "H6WSdaHT3hJ7",
        "outputId": "f35f6927-2cac-4100-e210-539a158a9bd2"
      },
      "execution_count": 5,
      "outputs": [
        {
          "output_type": "stream",
          "name": "stderr",
          "text": [
            "..\n",
            "----------------------------------------------------------------------\n",
            "Ran 2 tests in 0.006s\n",
            "\n",
            "OK\n"
          ]
        },
        {
          "output_type": "stream",
          "name": "stdout",
          "text": [
            "All tests completed.\n"
          ]
        }
      ]
    },
    {
      "cell_type": "markdown",
      "source": [
        "This example shows a simple way to test a function's behavior using `unittest` in Google Colab. You can create more test cases by adding additional test functions to the `TestFactorial` class and running the tests using the `if __name__ == '__main__':` block."
      ],
      "metadata": {
        "id": "TWcUgqap4Vd_"
      }
    },
    {
      "cell_type": "markdown",
      "source": [
        "# **Thank you!!**"
      ],
      "metadata": {
        "id": "xJU2uFeM4Xii"
      }
    }
  ]
}